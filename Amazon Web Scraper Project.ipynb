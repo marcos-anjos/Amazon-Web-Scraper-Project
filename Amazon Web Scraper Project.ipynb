{
 "cells": [
  {
   "cell_type": "markdown",
   "metadata": {
    "id": "QRcqbpLpFK5o"
   },
   "source": [
    "# **Amazon Web Scraper Project**"
   ]
  },
  {
   "cell_type": "markdown",
   "metadata": {
    "id": "UIQyQUORsoZv"
   },
   "source": [
    "Caderno de **Portifolio** <br/>\n",
    "[Marcos Vinicius](https://www.linkedin.com/in/marcosvmanjos/) - [Github](https://github.com/marcos-anjos)\n",
    "\n",
    "___"
   ]
  },
  {
   "cell_type": "markdown",
   "metadata": {
    "id": "Dr3P02YTthxL"
   },
   "source": [
    "## **Tópicos**\n",
    "\n",
    "<ol type=\"1\">\n",
    "  <li>Introdução;</li>\n",
    "  <li>Web Scraping;</li>\n",
    "</ol>"
   ]
  },
  {
   "cell_type": "markdown",
   "metadata": {
    "id": "GBxA67attlsM"
   },
   "source": [
    "## **1\\. Introdução**"
   ]
  },
  {
   "cell_type": "markdown",
   "metadata": {
    "id": "53FmJYcmuI7a"
   },
   "source": [
    "- **Processamento**:\n",
    "  \n",
    "<p> Este projeto visa criar um web scraper em Python para extrair informações de preços de um produto específico na Amazon. Utilizando as bibliotecas BeautifulSoup e Requests, o código se conecta ao site da Amazon, recupera o título e o preço do produto e os armazena em um arquivo CSV. Além disso, é implementada uma função para verificar periodicamente o preço do produto e atualizar o arquivo CSV com os dados mais recentes.</p>\n",
    "\n",
    "\n",
    "\n",
    "- **Fontes**:\n",
    "  - Storytelling with Data: A Data Visualization Guide for Business Professionals ([link](https://www.amazon.com/Storytelling-Data-Visualization-Business-Professionals/dp/1119002257/ref=bmx_dp_5kl4ezon_d_sccl_3_1/139-0810955-0548326?pd_rd_w=PDZ4r&content-id=amzn1.sym.628e3119-8afd-4af2-be6b-18415b51e649&pf_rd_p=628e3119-8afd-4af2-be6b-18415b51e649&pf_rd_r=1J9HBCTCPP5A7GJ3RZBX&pd_rd_wg=YulZV&pd_rd_r=b2fa3ebf-3da5-46b0-b9a5-1c2ea86bd7e5&pd_rd_i=1119002257&psc=1));\n",
    "\n",
    "![Book](https://miro.medium.com/v2/format:webp/1*UK_AEjnD5g0SS0bJ_F2l-A.jpeg)\n"
   ]
  },
  {
   "cell_type": "markdown",
   "metadata": {
    "id": "6-CvdKwqFPiW"
   },
   "source": [
    "### **Motivação/Objetivo**"
   ]
  },
  {
   "cell_type": "markdown",
   "metadata": {
    "id": "i-VW5FwPyDtE"
   },
   "source": [
    "\n",
    "- **Acompanhamento de Preços:**\n",
    "O objetivo principal deste projeto é monitorar e registrar os preços de um produto específico na Amazon ao longo do tempo. Isso permite aos usuários acompanhar as flutuações de preço e tomar decisões informadas sobre quando comprar o produto com base em seu histórico de preços.\n",
    "\n",
    "- **Automação e Eficiência:**\n",
    "Além disso, a automação do processo de monitoramento de preços por meio do web scraper economiza tempo e esforço, fornecendo atualizações regulares sem a necessidade de verificação manual."
   ]
  },
  {
   "cell_type": "markdown",
   "metadata": {
    "id": "S6uWiHDakOUZ"
   },
   "source": [
    "## **Contexto**"
   ]
  },
  {
   "cell_type": "markdown",
   "metadata": {
    "id": "4ApfIDitj_W8"
   },
   "source": [
    "O código desenvolvido neste projeto é aplicável a uma ampla variedade de produtos vendidos na Amazon. Ele oferece uma solução eficiente para usuários interessados em monitorar e analisar os preços de produtos específicos ao longo do tempo, fornecendo insights valiosos para tomada de decisões de compra."
   ]
  },
  {
   "cell_type": "markdown",
   "metadata": {
    "id": "h9ockbO_x8PD"
   },
   "source": [
    "### **Limitações**"
   ]
  },
  {
   "cell_type": "markdown",
   "metadata": {
    "id": "l8_we15wsR_J"
   },
   "source": [
    "- **Variação de Preços:**\n",
    "\n",
    "É importante ressaltar que os preços dos produtos na Amazon podem variar frequentemente devido a promoções, descontos sazonais e outros fatores. Portanto, os dados coletados pelo web scraper refletem os preços no momento da extração e podem não representar o preço final de compra.\n",
    "\n",
    "- **Dependência de Conexão com a Internet:**\n",
    "\n",
    "O funcionamento adequado do web scraper depende da disponibilidade de conexão com a internet e da acessibilidade do site da Amazon. Interrupções na conexão ou mudanças na estrutura do site podem afetar a capacidade do scraper de coletar dados com precisão."
   ]
  },
  {
   "cell_type": "markdown",
   "metadata": {
    "id": "QxukLHaqFnkU"
   },
   "source": [
    "## **2\\. Web Scraping**"
   ]
  },
  {
   "cell_type": "markdown",
   "metadata": {
    "id": "NpgkRJc-wxFI"
   },
   "source": [
    "### **Bibliotecas**"
   ]
  },
  {
   "cell_type": "code",
   "execution_count": 1,
   "metadata": {
    "id": "VXUEW0VrF7XW"
   },
   "outputs": [],
   "source": [
    "# Importando bibliotecas necessárias\n",
    "\n",
    "from bs4 import BeautifulSoup\n",
    "import requests\n",
    "import time\n",
    "import datetime\n",
    "\n",
    "import smtplib\n"
   ]
  },
  {
   "cell_type": "code",
   "execution_count": 2,
   "metadata": {},
   "outputs": [
    {
     "name": "stdout",
     "output_type": "stream",
     "text": [
      "\n",
      "             Storytelling with Data: A Data Visualization Guide for Business Professionals\n",
      "            \n",
      "\n",
      "                            $22.48\n",
      "                           \n"
     ]
    }
   ],
   "source": [
    "# Conectar ao site e extrair dados.\n",
    "\n",
    "URL = 'https://www.amazon.com/Storytelling-Data-Visualization-Business-Professionals/dp/1119002257/ref=bmx_dp_5kl4ezon_d_sccl_3_1/139-0810955-0548326?pd_rd_w=PDZ4r&content-id=amzn1.sym.628e3119-8afd-4af2-be6b-18415b51e649&pf_rd_p=628e3119-8afd-4af2-be6b-18415b51e649&pf_rd_r=1J9HBCTCPP5A7GJ3RZBX&pd_rd_wg=YulZV&pd_rd_r=b2fa3ebf-3da5-46b0-b9a5-1c2ea86bd7e5&pd_rd_i=1119002257&psc=1'\n",
    "\n",
    "headers = {\"User-Agent\":\n",
    "           \"Mozilla/5.0 (Windows NT 10.0; Win64; x64) AppleWebKit/537.36 (KHTML, like Gecko) Chrome/78.0.3904.108 Safari/537.36\", \"Accept-Encoding\":\"gzip, deflate\", \"Accept\":\"text/html,application/xhtml+xml,application/xml;q=0.9,*/*;q=0.8\", \"DNT\":\"1\",\"Connection\":\"close\", \"Upgrade-Insecure-Requests\":\"1\"}\n",
    "\n",
    "page = requests.get(URL, headers=headers)\n",
    "\n",
    "soup1 = BeautifulSoup(page.content, \"html.parser\")\n",
    "\n",
    "soup2 = BeautifulSoup(soup1.prettify(), \"html.parser\")\n",
    "\n",
    "title = soup2.find(id=\"productTitle\").get_text()\n",
    "\n",
    "price = soup2.find(id=\"price\").get_text()\n",
    "\n",
    "print(title)\n",
    "print(price)"
   ]
  },
  {
   "cell_type": "code",
   "execution_count": 3,
   "metadata": {},
   "outputs": [
    {
     "name": "stdout",
     "output_type": "stream",
     "text": [
      "Storytelling with Data: A Data Visualization Guide for Business Professionals\n",
      "22.48\n"
     ]
    }
   ],
   "source": [
    "# Limpando os dados\n",
    "    \n",
    "price = price.strip()[1:]\n",
    "title = title.strip()\n",
    "\n",
    "print(title)\n",
    "print(price)"
   ]
  },
  {
   "cell_type": "code",
   "execution_count": 4,
   "metadata": {},
   "outputs": [
    {
     "name": "stdout",
     "output_type": "stream",
     "text": [
      "2024-04-07\n"
     ]
    }
   ],
   "source": [
    "# Data/Hora para sua saída para rastrear quando os dados foram coletados\n",
    "\n",
    "import datetime\n",
    "date = datetime.date.today()\n",
    "print(date)"
   ]
  },
  {
   "cell_type": "code",
   "execution_count": 5,
   "metadata": {},
   "outputs": [],
   "source": [
    "# Criar o header\n",
    "\n",
    "import csv \n",
    "\n",
    "header = ['Title', 'Price', 'Date']\n",
    "data = [title, price, date]\n"
   ]
  },
  {
   "cell_type": "code",
   "execution_count": 6,
   "metadata": {},
   "outputs": [],
   "source": [
    "# Inserir os valores \n",
    "\n",
    "with open('AmazonWebScraperDataset.csv', 'a+', newline='', encoding='UTF8') as f:\n",
    "    writer = csv.writer(f)\n",
    "    writer.writerow(data)"
   ]
  },
  {
   "cell_type": "code",
   "execution_count": 7,
   "metadata": {},
   "outputs": [],
   "source": [
    "# Função que vai estar conectada ao timer\n",
    "\n",
    "def check_price():\n",
    "    URL = 'https://www.amazon.com/Storytelling-Data-Visualization-Business-Professionals/dp/1119002257/ref=bmx_dp_5kl4ezon_d_sccl_3_1/139-0810955-0548326?pd_rd_w=PDZ4r&content-id=amzn1.sym.628e3119-8afd-4af2-be6b-18415b51e649&pf_rd_p=628e3119-8afd-4af2-be6b-18415b51e649&pf_rd_r=1J9HBCTCPP5A7GJ3RZBX&pd_rd_wg=YulZV&pd_rd_r=b2fa3ebf-3da5-46b0-b9a5-1c2ea86bd7e5&pd_rd_i=1119002257&psc=1'\n",
    "\n",
    "    headers = {\"User-Agent\": \"Mozilla/5.0 (Windows NT 10.0; Win64; x64) AppleWebKit/537.36 (KHTML, like Gecko) Chrome/78.0.3904.108 Safari/537.36\", \"Accept-Encoding\":\"gzip, deflate\", \"Accept\":\"text/html,application/xhtml+xml,application/xml;q=0.9,*/*;q=0.8\", \"DNT\":\"1\",\"Connection\":\"close\", \"Upgrade-Insecure-Requests\":\"1\"}\n",
    "\n",
    "    page = requests.get(URL, headers=headers)\n",
    "\n",
    "    soup1 = BeautifulSoup(page.content, \"html.parser\")\n",
    "\n",
    "    soup2 = BeautifulSoup(soup1.prettify(), \"html.parser\")\n",
    "\n",
    "    title = soup2.find(id=\"productTitle\").get_text()\n",
    "\n",
    "    price = soup2.find(id=\"price\").get_text()\n",
    "\n",
    "    # Limpando os dados\n",
    "    \n",
    "    price = price.strip()[1:]\n",
    "    title = title.strip()\n",
    "\n",
    "    # Data/Hora para sua saída para rastrear quando os dados foram coletados\n",
    "    \n",
    "    import datetime\n",
    "\n",
    "    today = datetime.date.today()\n",
    "    \n",
    "    import csv \n",
    "\n",
    "    header = ['Title', 'Price', 'Date']\n",
    "    data = [title, price, today]\n",
    "\n",
    "    with open('AmazonWebScraperDataset.csv', 'a+', newline='', encoding='UTF8') as f:\n",
    "        writer = csv.writer(f)\n",
    "        writer.writerow(data)"
   ]
  },
  {
   "cell_type": "code",
   "execution_count": null,
   "metadata": {},
   "outputs": [],
   "source": [
    "# Executa a função check_price após um tempo definido e insere os dados no seu arquivo CSV\n",
    "\n",
    "while(True):\n",
    "    check_price()\n",
    "    time.sleep(86400)"
   ]
  }
 ],
 "metadata": {
  "colab": {
   "provenance": []
  },
  "kernelspec": {
   "display_name": "Python 3 (ipykernel)",
   "language": "python",
   "name": "python3"
  },
  "language_info": {
   "codemirror_mode": {
    "name": "ipython",
    "version": 3
   },
   "file_extension": ".py",
   "mimetype": "text/x-python",
   "name": "python",
   "nbconvert_exporter": "python",
   "pygments_lexer": "ipython3",
   "version": "3.11.7"
  }
 },
 "nbformat": 4,
 "nbformat_minor": 4
}
